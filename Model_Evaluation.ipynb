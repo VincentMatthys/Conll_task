{
 "cells": [
  {
   "cell_type": "code",
   "execution_count": 1,
   "metadata": {},
   "outputs": [
    {
     "name": "stderr",
     "output_type": "stream",
     "text": [
      "Using TensorFlow backend.\n"
     ]
    }
   ],
   "source": [
    "from eval import *"
   ]
  },
  {
   "cell_type": "markdown",
   "metadata": {},
   "source": [
    "# 1. Evaluation of the POS tagger model on the test data."
   ]
  },
  {
   "cell_type": "code",
   "execution_count": 2,
   "metadata": {},
   "outputs": [
    {
     "name": "stderr",
     "output_type": "stream",
     "text": [
      "d:\\tf\\lib\\site-packages\\tensorflow\\python\\framework\\indexed_slices.py:434: UserWarning: Converting sparse IndexedSlices to a dense Tensor of unknown shape. This may consume a large amount of memory.\n",
      "  \"Converting sparse IndexedSlices to a dense Tensor of unknown shape. \"\n"
     ]
    },
    {
     "name": "stdout",
     "output_type": "stream",
     "text": [
      "3450/3450 [==============================] - 1s 423us/step\n",
      "           precision    recall  f1-score   support\n",
      "\n",
      "      POS       1.00      0.92      0.96       345\n",
      "      WRB       0.92      1.00      0.96        68\n",
      "       VB       0.86      0.86      0.86       934\n",
      "       IN       0.98      0.96      0.97      4049\n",
      "       CD       0.66      0.85      0.74      2415\n",
      "     PRP$       1.00      0.98      0.99       300\n",
      "      NNS       0.82      0.85      0.83      2050\n",
      "      VBZ       0.71      0.92      0.80       386\n",
      "      PAD       1.00      1.00      1.00      3450\n",
      "      VBP       0.75      0.94      0.84       263\n",
      "      WDT       0.73      0.96      0.83        82\n",
      "       DT       0.99      0.99      0.99      2772\n",
      "      SYM       0.90      1.00      0.95        43\n",
      "       MD       0.97      0.99      0.98       263\n",
      "      NNP       0.68      0.65      0.67      5298\n",
      "      VBN       0.71      0.82      0.76       708\n",
      "       TO       1.00      1.00      1.00       817\n",
      "       WP       0.96      0.95      0.96       116\n",
      "      VBG       0.65      0.64      0.64       485\n",
      "       JJ       0.74      0.69      0.71      2379\n",
      "      VBD       0.91      0.90      0.90      1706\n",
      "     NNPS       0.03      0.83      0.06         6\n",
      "       CC       0.99      1.00      1.00       758\n",
      "       RB       0.74      0.79      0.77       787\n",
      "      JJR       0.52      0.72      0.60        67\n",
      "      PRP       0.98      1.00      0.99       589\n",
      "       RP       0.06      0.55      0.10        11\n",
      "       NN       0.83      0.81      0.82      4466\n",
      "      JJS       0.11      1.00      0.19         6\n",
      "\n",
      "micro avg       0.83      0.85      0.84     35619\n",
      "macro avg       0.85      0.85      0.85     35619\n",
      "\n",
      "=========================\n",
      "Precision: \t 0.8316200995133687\n",
      "Recall: \t 0.8540105000140374\n",
      "F1: \t\t 0.8426665927947146\n",
      "None\n"
     ]
    }
   ],
   "source": [
    "POS_EVAL()"
   ]
  },
  {
   "cell_type": "markdown",
   "metadata": {},
   "source": [
    "# 2. Evaluation of the Syntactic chunk Tagger Model on the test data."
   ]
  },
  {
   "cell_type": "code",
   "execution_count": 3,
   "metadata": {},
   "outputs": [
    {
     "name": "stdout",
     "output_type": "stream",
     "text": [
      "3453/3453 [==============================] - 3s 987us/step\n",
      "           precision    recall  f1-score   support\n",
      "\n",
      "     ADJP       0.22      0.61      0.32       100\n",
      "      PAD       1.00      1.00      1.00      3453\n",
      "       VP       0.76      0.83      0.80      3462\n",
      "     ADVP       0.60      0.65      0.62       511\n",
      "     SBAR       0.63      0.87      0.73       216\n",
      "       PP       0.95      0.94      0.94      4024\n",
      "       NP       0.83      0.84      0.83     12925\n",
      "      PRT       0.21      0.82      0.33        28\n",
      "\n",
      "micro avg       0.84      0.87      0.86     24719\n",
      "macro avg       0.85      0.87      0.86     24719\n",
      "\n",
      "=========================\n",
      "Precision: \t 0.8438677763819096\n",
      "Recall: \t 0.869574011893685\n",
      "F1: \t\t 0.8565280628001036\n",
      "None\n"
     ]
    }
   ],
   "source": [
    "PAR_EVAL()"
   ]
  },
  {
   "cell_type": "markdown",
   "metadata": {},
   "source": [
    "# 3. Evaluation of the NER tagger model on the test data."
   ]
  },
  {
   "cell_type": "code",
   "execution_count": 4,
   "metadata": {},
   "outputs": [
    {
     "name": "stdout",
     "output_type": "stream",
     "text": [
      "3453/3453 [==============================] - 3s 978us/step\n",
      "           precision    recall  f1-score   support\n",
      "\n",
      "      ORG       0.63      0.68      0.66      1549\n",
      "      PER       0.35      0.58      0.44       968\n",
      "     MISC       0.63      0.71      0.67       627\n",
      "      PAD       0.99      0.99      0.99      3452\n",
      "      LOC       0.77      0.86      0.81      1485\n",
      "\n",
      "micro avg       0.74      0.83      0.79      8081\n",
      "macro avg       0.77      0.83      0.80      8081\n",
      "\n",
      "=========================\n",
      "Precision: \t 0.7410989010989011\n",
      "Recall: \t 0.8345501794332385\n",
      "F1: \t\t 0.785053256504278\n",
      "None\n"
     ]
    }
   ],
   "source": [
    "NER_EVAL()"
   ]
  }
 ],
 "metadata": {
  "kernelspec": {
   "display_name": "Python 3",
   "language": "python",
   "name": "python3"
  },
  "language_info": {
   "codemirror_mode": {
    "name": "ipython",
    "version": 3
   },
   "file_extension": ".py",
   "mimetype": "text/x-python",
   "name": "python",
   "nbconvert_exporter": "python",
   "pygments_lexer": "ipython3",
   "version": "3.5.2"
  }
 },
 "nbformat": 4,
 "nbformat_minor": 4
}
